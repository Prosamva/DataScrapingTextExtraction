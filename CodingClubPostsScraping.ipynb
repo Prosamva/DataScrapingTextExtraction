{
 "cells": [
  {
   "cell_type": "markdown",
   "metadata": {
    "ExecuteTime": {
     "end_time": "2022-02-09T09:18:26.269403Z",
     "start_time": "2022-02-09T09:18:26.258309Z"
    }
   },
   "source": [
    "Install the following necessary packages/libraries."
   ]
  },
  {
   "cell_type": "code",
   "execution_count": null,
   "metadata": {
    "ExecuteTime": {
     "end_time": "2022-02-09T09:16:59.414644Z",
     "start_time": "2022-02-09T09:16:36.937018Z"
    }
   },
   "outputs": [],
   "source": [
    "! pip install tqdm\n",
    "! pip install pytesseract\n",
    "! pip install selenium\n",
    "! pip install beautifulsoup4\n",
    "! pip install openpyxl\n",
    "! pip install Pillow"
   ]
  },
  {
   "cell_type": "code",
   "execution_count": null,
   "metadata": {},
   "outputs": [],
   "source": [
    "# Common imports\n",
    "from tqdm.notebook import tqdm\n",
    "from time import sleep\n",
    "import openpyxl"
   ]
  },
  {
   "cell_type": "markdown",
   "metadata": {},
   "source": [
    "# Data Extraction from [Coding Club Image Posts](https://www.linkedin.com/company/coding-club/posts/?feedView=images)"
   ]
  },
  {
   "cell_type": "markdown",
   "metadata": {},
   "source": [
    "Install ChromeDriver for Selenium to work.<br>\n",
    "Download the latest version here: https://chromedriver.chromium.org/ <br>\n",
    "For Windows, download **chromedriver_win32.zip** <br><br>\n",
    "\n",
    "Install Tesseract engine for Text extraction.<br>\n",
    "Download the latest version for Windows here: https://github.com/UB-Mannheim/tesseract/wiki <br><br>\n",
    "Steps involved / Outline of the program:\n",
    "1. Scrape all image posts using Selenium.\n",
    "2. Get all valid image links using BeautifulSoup.\n",
    "3. Store the links in XLSX(Excel) file using Openpyxl.\n",
    "4. Download all images using URLlib.\n",
    "5. Process each image for text using PyTesseract.\n",
    "6. Filter, validate and parse the string into their respective fields\n",
    "7. Fill the remaining columns of the XLSX file."
   ]
  },
  {
   "cell_type": "code",
   "execution_count": null,
   "metadata": {},
   "outputs": [],
   "source": [
    "workbook_path = 'D:/CodingClubPosts-MiniProject/QB.xlsx'\n",
    "\n",
    "# Create the workbook to be used.\n",
    "workbook = openpyxl.Workbook(workbook_path)\n",
    "workbook.create_sheet('Data')\n",
    "workbook.save(workbook_path)"
   ]
  },
  {
   "cell_type": "markdown",
   "metadata": {},
   "source": [
    "Note: If you want to view the workbook while the program is running, make a copy of the file and then open the copy to view. Opening the original file will revoke write access to the program which will raise errors and terminate the execution of the program. "
   ]
  },
  {
   "cell_type": "markdown",
   "metadata": {
    "ExecuteTime": {
     "end_time": "2022-02-09T07:26:44.473643Z",
     "start_time": "2022-02-09T07:26:44.460645Z"
    }
   },
   "source": [
    "### Scrape for Image Posts"
   ]
  },
  {
   "cell_type": "code",
   "execution_count": null,
   "metadata": {},
   "outputs": [],
   "source": [
    "chromedriver_path = r'D:\\Documents\\drivers\\chromedriver'"
   ]
  },
  {
   "cell_type": "code",
   "execution_count": null,
   "metadata": {},
   "outputs": [],
   "source": [
    "from selenium import webdriver\n",
    "from selenium.webdriver.common.keys import Keys\n",
    "from selenium.webdriver.common.action_chains import ActionChains\n",
    "\n",
    "driver = webdriver.Chrome(chromedriver_path)\n",
    "driver.get('https://www.linkedin.com/')"
   ]
  },
  {
   "cell_type": "markdown",
   "metadata": {},
   "source": [
    "Login to Linkedin before proceeding."
   ]
  },
  {
   "cell_type": "code",
   "execution_count": null,
   "metadata": {},
   "outputs": [],
   "source": [
    "driver.get('https://www.linkedin.com/company/coding-club/posts/?feedView=images')"
   ]
  },
  {
   "cell_type": "markdown",
   "metadata": {},
   "source": [
    "The following snippet scrolls to bottom of the page. This is because LinkedIn renders posts on scroll dynamically.<br>\n",
    "Run this code again if end is not reached."
   ]
  },
  {
   "cell_type": "code",
   "execution_count": null,
   "metadata": {},
   "outputs": [],
   "source": [
    "for i in tqdm(range(1000)):\n",
    "    driver.execute_script(\"window.scrollTo(0, document.body.scrollHeight);\")"
   ]
  },
  {
   "cell_type": "markdown",
   "metadata": {},
   "source": [
    "Scrape all posts"
   ]
  },
  {
   "cell_type": "code",
   "execution_count": null,
   "metadata": {},
   "outputs": [],
   "source": [
    "from bs4 import BeautifulSoup\n",
    "src = driver.page_source\n",
    "soup = BeautifulSoup(src, 'html.parser')\n",
    "divs = soup.find_all('div', {'class':'occludable-update ember-view'})\n",
    "print(f'Approximately {len(divs)} posts found.')"
   ]
  },
  {
   "cell_type": "markdown",
   "metadata": {},
   "source": [
    "Fetch link from image post if it has one of the search_tags and store them in a XLSX file."
   ]
  },
  {
   "cell_type": "code",
   "execution_count": null,
   "metadata": {},
   "outputs": [],
   "source": [
    "search_tags = ['#Asked', '#Google ', '#Coding', 'Coding Interview', '[Difficulty :']"
   ]
  },
  {
   "cell_type": "code",
   "execution_count": null,
   "metadata": {},
   "outputs": [],
   "source": [
    "import openpyxl\n",
    "workbook = openpyxl.load_workbook(workbook_path)\n",
    "i = 1\n",
    "for div in tqdm(divs):\n",
    "    sdiv = div.get_text().lower()\n",
    "    if any(tag.lower() in sdiv for tag in tags):\n",
    "        img = div.find('img', {'width':\"600\",'height':\"600\"})\n",
    "        if img!=None:\n",
    "            workbook['Data'][f'J{i+1}'] = img.get('src')\n",
    "            workbook.save(workbook_path)\n",
    "            i+=1\n",
    "print(f'{i} cells filled.')"
   ]
  },
  {
   "cell_type": "markdown",
   "metadata": {},
   "source": [
    "It is recommended to logout from LinkedIn before closing the driver."
   ]
  },
  {
   "cell_type": "code",
   "execution_count": null,
   "metadata": {},
   "outputs": [],
   "source": [
    "driver.close()"
   ]
  },
  {
   "cell_type": "markdown",
   "metadata": {},
   "source": [
    "Download all images"
   ]
  },
  {
   "cell_type": "code",
   "execution_count": null,
   "metadata": {},
   "outputs": [],
   "source": [
    "imgs_folder_path = 'D:/CodingClubPosts-MiniProject/imgs/'"
   ]
  },
  {
   "cell_type": "code",
   "execution_count": null,
   "metadata": {},
   "outputs": [],
   "source": [
    "import urllib\n",
    "for i in tqdm(range(1, len(workbook['Data']['J'])+1)):\n",
    "    file_path = f'{imgs_folder_path}coding{i}.jpg'\n",
    "    urllib.request.urlretrieve(workbook['Data'][f'J{i+1}'], file_path)"
   ]
  },
  {
   "cell_type": "markdown",
   "metadata": {
    "heading_collapsed": true
   },
   "source": [
    "### Extract Data from Images"
   ]
  },
  {
   "cell_type": "code",
   "execution_count": null,
   "metadata": {
    "hidden": true
   },
   "outputs": [],
   "source": [
    "tesseract_path = r\"C:\\Program Files\\Tesseract-OCR\\tesseract.exe\"\n",
    "processed_imgs_folder_path = 'D:/CodingClubPosts-MiniProject/imgs/processed/'\n",
    "log_filepath = 'D:/CCDE_log.txt'\n",
    "last_img_index = 908\n",
    "common_errors = [('Space |','Space:'), ('Input-', 'Input:'), ('Spac ', 'Space'), ('Difficulty level -', 'Difficulty level:'), ('casy', 'easy'), ('(nput', 'Input'), ('.-',':'), ('--', ':'), ('©',':'), ('Qutput','Output'), (';', ':'), ('\\\\n\\\\n', '\\\\n'), (':-',':'), (' :', ':'), (' : ', ':'), (': ', ':'), ('Difficulty level ', 'Difficulty level:')]"
   ]
  },
  {
   "cell_type": "markdown",
   "metadata": {},
   "source": [
    "Improve image, extract text and save the information."
   ]
  },
  {
   "cell_type": "code",
   "execution_count": null,
   "metadata": {
    "hidden": true
   },
   "outputs": [],
   "source": [
    "from PIL import Image, ImageEnhance, ImageOps\n",
    "from pytesseract import pytesseract\n",
    "import numpy\n",
    "import cv2\n",
    "\n",
    "pytesseract.tesseract_cmd = tesseract_path\n",
    "\n",
    "# Allowed characters\n",
    "alp = '1234567890abcdefghijklmnopqrstuvwxyzABCDEFGHIJKLMNOPQRSTUVWXYZ,>?/\\\\+=-_;:<>#$*^&%(){}[]@|!'\n",
    "# conf = '-c tessedit_char_whitelist=1234567890abcdefghijklmnopqrstuvwxyzABCDEFGHIJKLMNOPQRSTUVWXYZ.,>?/\\\\\\'\"+=-_:<>#$*^&%(){}[]'\n",
    "workbook = openpyxl.load_workbook(workbook_path)\n",
    "\n",
    "# Bounding coordinates to detect type of post.\n",
    "ca_area = (217, 98, 217+365, 98+97)\n",
    "# Bounding coordinates for general question.\n",
    "q_area = (16, 186, 16+767, 186+484)\n",
    "# Bounding coordinates for Google question.\n",
    "g_q_area = (14, 226, 14+775, 226+457)\n",
    "\n",
    "# Improves image for text extraction.\n",
    "def upscale(img, f=0.5, threshold = 100):\n",
    "    img = cv2.resize(numpy.array(img), None, fx=f, fy=f, interpolation=cv2.INTER_AREA)\n",
    "    img = Image.fromarray(img)\n",
    "    img = img.point(lambda p: p > threshold and 255)\n",
    "#     img = ImageEnhance.Sharpness(img).enhance(6000)\n",
    "#     img = ImageEnhance.Contrast(img).enhance(5000)\n",
    "    return img\n",
    "\n",
    "# Extracted text parsed into list of field values.\n",
    "def get_record(text):\n",
    "    fields = ['Difficulty level:', 'Time:', 'Space:', 'Input:', 'Output:', 'Topic:', 'Tag:']\n",
    "    ans = ['' for _ in range(len(fields))]\n",
    "    u, c = 0, -1\n",
    "    first_arrival = -1\n",
    "    dl_a = False\n",
    "    while u<len(text):\n",
    "        for k, field in enumerate(fields):\n",
    "            if text[u:].startswith(field):\n",
    "                if k==0: dl_a = True\n",
    "                if first_arrival==-1: first_arrival=u\n",
    "                u+=len(field)\n",
    "                c=k\n",
    "        if c!=-1: ans[c]+=text[u]\n",
    "        u+=1\n",
    "    a1 = ans[0]\n",
    "    if dl_a==True:\n",
    "        a1i = a1.index('\\n')\n",
    "        ans[0] = a1[:a1i].strip().capitalize()\n",
    "        ans=[a1[a1i+1:]]+ans\n",
    "    else: ans=[a1[:first_arrival]]+ans\n",
    "    return list(map(lambda x: x.strip(), ans))\n",
    "\n",
    "with open(log_filepath, 'w') as log_file:\n",
    "    log_file.write('This log file contains names of the images which may be irrelevant.\\n\\n')\n",
    "    \n",
    "for i in tqdm(range(1, last_img_index +1)):\n",
    "    img = ImageOps.grayscale(Image.open(f'{imgs_folder_path}coding{i}.jpg'))\n",
    "    ca = img.crop(ca_area)\n",
    "    cai = upscale(ca)\n",
    "    cai.save(f'{processed_imgs_folder_path}cat{i}.jpg')\n",
    "    ca_text = pytesseract.image_to_string(cai).lower()\n",
    "    data_img = None\n",
    "    complete_text = ''\n",
    "    if 'google' in ca_text:\n",
    "        data_img = img.crop(g_q_area)\n",
    "        workbook['Data'][f'M{i+1}'] = 'Google'\n",
    "    elif any(tag in ca_text for tag in ['coding', 'interview', 'asked']):\n",
    "        data_img = img.crop(q_area)\n",
    "        workbook['Data'][f'M{i+1}'] = 'Ordinary'\n",
    "    else:\n",
    "        with open(log_filepath, 'a') as log_file:\n",
    "            log_file.write(f'coding{i}.jpg, ')\n",
    "        continue\n",
    "#         worksheet[ord('M')-ord('A')][i] = 'Ordinary'\n",
    "    di = upscale(data_img, 0.8, 180)\n",
    "    complete_text = pytesseract.image_to_string(di)\n",
    "    for common_error in common_errors:\n",
    "        complete_text = complete_text.replace(common_error[0], common_error[1])\n",
    "    di.save(f'{processed_imgs_folder_path}di{i}.jpg')\n",
    "    aiths = get_record(complete_text)\n",
    "    for o, aith in enumerate(aiths):\n",
    "        workbook['Data'][f\"{chr(ord('A')+o)}{i+1}\"].value=aith\n",
    "    workbook['Data'][f'L{i+1}'] = repr(complete_text)\n",
    "    for letter in complete_text:\n",
    "        if letter not in alp: \n",
    "            complete_text = complete_text.replace(letter, ' ')\n",
    "    workbook['Data'][f'K{i+1}'].value = complete_text\n",
    "workbook.save(workbook_path)"
   ]
  }
 ],
 "metadata": {
  "kernelspec": {
   "display_name": "Python 3",
   "language": "python",
   "name": "python3"
  },
  "language_info": {
   "codemirror_mode": {
    "name": "ipython",
    "version": 3
   },
   "file_extension": ".py",
   "mimetype": "text/x-python",
   "name": "python",
   "nbconvert_exporter": "python",
   "pygments_lexer": "ipython3",
   "version": "3.7.9"
  },
  "latex_envs": {
   "LaTeX_envs_menu_present": true,
   "autoclose": false,
   "autocomplete": true,
   "bibliofile": "biblio.bib",
   "cite_by": "apalike",
   "current_citInitial": 1,
   "eqLabelWithNumbers": true,
   "eqNumInitial": 1,
   "hotkeys": {
    "equation": "Ctrl-E",
    "itemize": "Ctrl-I"
   },
   "labels_anchors": false,
   "latex_user_defs": false,
   "report_style_numbering": false,
   "user_envs_cfg": false
  }
 },
 "nbformat": 4,
 "nbformat_minor": 4
}
